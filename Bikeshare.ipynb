{
 "cells": [
  {
   "cell_type": "markdown",
   "id": "79f68d29",
   "metadata": {},
   "source": [
    "# Explore US Bikeshare Data\n",
    "\n",
    "In this project, I utilized Python to analyze data from bike share systems in three prominent cities of the United States: Chicago, New York City, and Washington. I developed code to import and manipulate the data, allowing for the calculation of descriptive statistics to uncover insights. Additionally, I created a script that provides an interactive terminal experience, allowing users to input raw data and receive real-time statistics, enhancing the accessibility and usability of the analysis.\n",
    "First, loading libraries needed for this project:"
   ]
  },
  {
   "cell_type": "code",
   "execution_count": null,
   "id": "6ea53c2b",
   "metadata": {},
   "outputs": [],
   "source": [
    "import time\n",
    "import pandas as pd\n",
    "import numpy as np\n",
    "\n",
    "CITY_DATA = { 'chicago': 'chicago.csv',\n",
    "              'new york city': 'new_york_city.csv',\n",
    "              'washington': 'washington.csv' }\n"
   ]
  },
  {
   "cell_type": "code",
   "execution_count": null,
   "id": "7bef2866",
   "metadata": {},
   "outputs": [],
   "source": [
    "filename = 'chicago.csv'\n",
    "df = pd.read_csv(Users/HP/Desktop/chicago.csv)\n",
    "\n",
    "filename = 'newyorkcity.csv'\n",
    "df = pd.read_csv(Users/HP/Desktop/newyorkcity.csv)\n",
    "\n",
    "filename = 'washington.csv'\n",
    "df = pd.read_csv(Users/HP/Desktop/washington.csv)"
   ]
  },
  {
   "cell_type": "code",
   "execution_count": null,
   "id": "17495072",
   "metadata": {},
   "outputs": [],
   "source": [
    "def get_filters():\n",
    "    \"\"\"\n",
    "    Asks user to specify a city, month, and day to analyze.\n",
    "\n",
    "    Returns:\n",
    "        (str) city - name of the city to analyze\n",
    "        (str) month - name of the month to filter by, or \"all\" to apply no month filter\n",
    "        (str) day - name of the day of week to filter by, or \"all\" to apply no day filter\n",
    "    \"\"\"\n",
    "    print('Hello! Let\\'s explore some US bikeshare data!')"
   ]
  },
  {
   "cell_type": "markdown",
   "id": "2c402e16",
   "metadata": {},
   "source": [
    "### To Do: get user input for city (chicago, new york city, washington). "
   ]
  },
  {
   "cell_type": "code",
   "execution_count": null,
   "id": "a5c2f10e",
   "metadata": {},
   "outputs": [],
   "source": [
    "while True:\n",
    "        city = input(\"Let's choose a city first! Which city are you interested \"+\n",
    "                     \"in: Chicago, New York City or Washington?\\n\\n\")\n",
    "        city = city.lower()\n",
    "        \n",
    "        if city not in ('new york city', 'chicago', 'washington'):\n",
    "            print(\"Oops, I didn't catch that. Give it another shot.\")\n",
    "            continue\n",
    "        else:\n",
    "            break"
   ]
  },
  {
   "cell_type": "markdown",
   "id": "4829b39a",
   "metadata": {},
   "source": [
    "### TO DO: get user input for month (all, january, february, ... , june)"
   ]
  },
  {
   "cell_type": "code",
   "execution_count": null,
   "id": "31ff6bb4",
   "metadata": {},
   "outputs": [],
   "source": [
    "    while True:\n",
    "        month = input(\"Which month would you like to check for in\" + city.title() + \n",
    "                      \"? You can select any month amongst January, February, March, \" +\n",
    "                      \"April, May and June, or type 'all' if you want to display all months.\\n\\n\")\n",
    "        month = month.lower()\n",
    "        if month not in ('january', 'february', 'march', 'april', 'may', \n",
    "                         'june', 'all'):\n",
    "            print(\"Oops, I didn't catch that. Give it another shot.\")\n",
    "            continue\n",
    "        else:\n",
    "            break\n"
   ]
  },
  {
   "cell_type": "markdown",
   "id": "33dc8e09",
   "metadata": {},
   "source": [
    "### TO DO: get user input for day of week (all, monday, tuesday, ... sunday)"
   ]
  },
  {
   "cell_type": "code",
   "execution_count": null,
   "id": "f27412b9",
   "metadata": {},
   "outputs": [],
   "source": [
    "while True:\n",
    "        day = input(\"Awesome! Now, let's choose a day.\" +\n",
    "                    \"You can select any day amongst Monday, Tuesday, Wednesday,\" +\n",
    "                    \"Thursday, Friday, Saturday or Sunday, or type all if \" +\n",
    "                    \"you want to display all days.\\n\\n\")\n",
    "        day = day.lower()\n",
    "        if day not in ('monday', 'tuesday', 'wednesday', 'thursday', 'friday', 'saturday', 'sunday', 'all'):\n",
    "            print(\"Oops, I didn't catch that. Give it another shot.\")\n",
    "            continue\n",
    "        else:\n",
    "            break\n",
    "\n",
    "print('-'*40)"
   ]
  },
  {
   "cell_type": "markdown",
   "id": "26f2aced",
   "metadata": {},
   "source": [
    "## Display a Breakdown of User Types"
   ]
  },
  {
   "cell_type": "code",
   "execution_count": null,
   "id": "f00b4df2",
   "metadata": {},
   "outputs": [],
   "source": [
    "def load_data(city, month, day):\n",
    "    \"\"\"\n",
    "    Loads data for the specified city and filters by month and day if applicable.\n",
    "\n",
    "    Args:\n",
    "        (str) city - name of the city to analyze\n",
    "        (str) month - name of the month to filter by, or \"all\" to apply no month filter\n",
    "        (str) day - name of the day of week to filter by, or \"all\" to apply no day filter\n",
    "    Returns:\n",
    "        df - Pandas DataFrame containing city data filtered by month and day\n",
    "    \"\"\"\n",
    "    df = pd.read_csv(CITY_DATA[city])\n",
    "\n",
    "    df['Start Time'] = pd.to_datetime(df['Start Time'])\n",
    "\n",
    "    df['month'] = df['Start Time'].dt.month\n",
    "    df['day_of_week'] = df['Start Time'].dt.weekday_name\n",
    "\n",
    "    if month != 'all':\n",
    "        months = ['january', 'february', 'march', 'april', 'may', 'june']\n",
    "        month = months.index(month) + 1\n",
    "\n",
    "        df = df[df['month'] == month]\n",
    "\n",
    "    if day != 'all':\n",
    "        df = df[df['day_of_week'] == day.title()]\n",
    "\n",
    "\n",
    "    return df"
   ]
  },
  {
   "cell_type": "markdown",
   "id": "792f1f8a",
   "metadata": {},
   "source": [
    "### Popular times of travel"
   ]
  },
  {
   "cell_type": "code",
   "execution_count": null,
   "id": "d4277173",
   "metadata": {},
   "outputs": [],
   "source": [
    "def time_stats(df): \n",
    "    \n",
    "    \"\"\"Displays statistics on the most frequent times of travel.\"\"\"\n",
    "\n",
    "    print('\\nCalculating The Most Frequent Times of Travel...\\n')\n",
    "    start_time = time.time()\n",
    "\n",
    "    # TO DO: display the most common month\n",
    "    popular_month = df['month'].mode()[0]\n",
    "    print('Most Common Month is:', popular_month)\n",
    "\n",
    "    # TO DO: display the most common day of week\n",
    "    popular_day = df['day_of_week'].mode()[0]\n",
    "    print('Most Common day of the week is:', popular_day)\n",
    "\n",
    "    # TO DO: display the most common start hour\n",
    "    df['hour'] = df['Start Time'].dt.hour\n",
    "    popular_hour = df['hour'].mode()[0]\n",
    "    print('Most Common Start Hour is:', popular_hour)\n",
    "\n",
    "    print(\"\\nThis took %s seconds.\" % (time.time() - start_time))\n",
    "    print('-'*40)\n"
   ]
  },
  {
   "cell_type": "markdown",
   "id": "7a2d6e00",
   "metadata": {},
   "source": [
    "### Popular stations and trips"
   ]
  },
  {
   "cell_type": "code",
   "execution_count": null,
   "id": "a89ed4a5",
   "metadata": {},
   "outputs": [],
   "source": [
    "def station_stats(df):\n",
    "    \"\"\"Displays statistics on the most popular stations and trip.\"\"\"\n",
    "\n",
    "    print('\\nCalculating The Most Popular Stations and Trip...\\n')\n",
    "    start_time = time.time()\n",
    "\n",
    "    # TO DO: display most commonly used start station\n",
    "    popular_start_station = df['Start Station'].mode()[0]\n",
    "    print('Most popularly used start station is:', popular_start_station)\n",
    "    \n",
    "\n",
    "    # TO DO: display most commonly used end station\n",
    "    popular_end_station = df['End Station'].mode()[0]\n",
    "    print('Most popularly used end station is:', popular_end_station)\n",
    "\n",
    "    # TO DO: display most frequent combination of start station and end station trip\n",
    "    popular_start_end_Station = df.groupby(['Start Station', 'End Station']).count().idxmax()[0]\n",
    "    print('\\nMost frequently used combination of start station and end station trip is:',                 popular_start_end_Station )\n",
    "\n",
    "    print(\"\\nThis took %s seconds.\" % (time.time() - start_time))\n",
    "    print('-'*40)\n"
   ]
  },
  {
   "cell_type": "markdown",
   "id": "28ca5803",
   "metadata": {},
   "source": [
    "### Trip duration"
   ]
  },
  {
   "cell_type": "code",
   "execution_count": null,
   "id": "c2ff4687",
   "metadata": {},
   "outputs": [],
   "source": [
    "def trip_duration_stats(df):\n",
    "    \"\"\"Displays statistics on the total and average trip duration.\"\"\"\n",
    "\n",
    "    print('\\nCalculating Trip Duration...\\n')\n",
    "    start_time = time.time()\n",
    "\n",
    "    # TO DO: display total travel time\n",
    "    Tot_Trvl_Duration = df['Trip Duration'].sum()\n",
    "    print('Total travel time:', Tot_Trvl_Duration, \"seconds, or\", Tot_Trvl_Duration/86400, \"Days\")\n",
    "    \n",
    "    # TO DO: display mean travel time\n",
    "    Mean_Travel_Time = df['Trip Duration'].mean()\n",
    "    print('Mean travel time:', Mean_Travel_Time, \"seconds, or\", Mean_Travel_Time/86400, \"Days\")\n",
    "\n",
    "\n",
    "    print(\"\\nThis took %s seconds.\" % (time.time() - start_time))\n",
    "    print('-'*40)\n"
   ]
  },
  {
   "cell_type": "markdown",
   "id": "c0f2991a",
   "metadata": {},
   "source": [
    "### User info"
   ]
  },
  {
   "cell_type": "code",
   "execution_count": null,
   "id": "2aa0bc94",
   "metadata": {},
   "outputs": [],
   "source": [
    "def user_stats(df):\n",
    "    \"\"\"Displays statistics on bikeshare users.\"\"\"\n",
    "\n",
    "    print('\\nCalculating User Stats...\\n')\n",
    "    start_time = time.time()\n",
    "\n",
    "    # TO DO: Display counts of user types\n",
    "    user_types = df['User Type'].value_counts()\n",
    "    print('User types are:', user_types)\n",
    "    "
   ]
  },
  {
   "cell_type": "code",
   "execution_count": null,
   "id": "d3e7edd3",
   "metadata": {},
   "outputs": [],
   "source": [
    "# TO DO: Display counts of gender\n",
    "    #Since there is no gender and birth year information for Washington,\n",
    "    if  'Gender' in df: \n",
    "        gender_types = df['Gender'].value_counts()\n",
    "        print('\\nGender Types:\\n', gender_types)\n",
    "\n",
    "    # TO DO: Display earliest, most recent, and most common year of birth\n",
    "    if  'Birth Year' in df:\n",
    "        Earliest_Birth_Year = int(df['Birth Year'].min())\n",
    "        print('\\nEarliest Year:', Earliest_Birth_Year)\n",
    "        Most_Recent_Birth_Year = int(df['Birth Year'].max())\n",
    "        print('\\nMost Recent Year:', Most_Recent_Birth_Year)\n",
    "        Most_Common_Birth_Year = int(df['Birth Year'].value_counts().idxmax())\n",
    "        print('\\nMost Common Year:', Most_Common_Birth_Year)\n",
    "        \n",
    "    else:\n",
    "        print('Sorry. Gender and birth year information are not available for Washington!')   "
   ]
  },
  {
   "cell_type": "code",
   "execution_count": null,
   "id": "491498b3",
   "metadata": {},
   "outputs": [],
   "source": [
    "def raw_data(df):\n",
    "    i = 1\n",
    "    while True:\n",
    "        rawdata = input('\\nWould you like to view 5 lines of raw data? Enter yes or no.\\n')\n",
    "        if rawdata.lower() == 'yes':\n",
    "            print(df[i:i+5])\n",
    "            \n",
    "            i = i+5\n",
    "        else:\n",
    "                \n",
    "            break\n",
    "            \n",
    "def main():\n",
    "    while True:\n",
    "        city, month, day = get_filters()\n",
    "        df = load_data(city, month, day)\n",
    "\n",
    "        time_stats(df)\n",
    "        station_stats(df)\n",
    "        trip_duration_stats(df)\n",
    "        user_stats(df)\n",
    "        raw_data(df)\n",
    "        restart = input('\\nWould you like to restart? Enter yes or no.\\n')\n",
    "        if restart.lower() != 'yes':\n",
    "            break\n",
    "\n",
    "\n",
    "if __name__ == \"__main__\":\n",
    "        main()\n"
   ]
  }
 ],
 "metadata": {
  "kernelspec": {
   "display_name": "Python 3 (ipykernel)",
   "language": "python",
   "name": "python3"
  },
  "language_info": {
   "codemirror_mode": {
    "name": "ipython",
    "version": 3
   },
   "file_extension": ".py",
   "mimetype": "text/x-python",
   "name": "python",
   "nbconvert_exporter": "python",
   "pygments_lexer": "ipython3",
   "version": "3.11.5"
  }
 },
 "nbformat": 4,
 "nbformat_minor": 5
}
